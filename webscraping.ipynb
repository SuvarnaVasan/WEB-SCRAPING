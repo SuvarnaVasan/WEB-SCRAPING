{
 "cells": [
  {
   "cell_type": "markdown",
   "id": "4ea78ff9",
   "metadata": {},
   "source": [
    "# WEB SCRAPING IN PYTHON USING BEAUTIFUL SOUP"
   ]
  },
  {
   "cell_type": "code",
   "execution_count": 46,
   "id": "2cdaae9d",
   "metadata": {},
   "outputs": [
    {
     "name": "stdout",
     "output_type": "stream",
     "text": [
      "['Sheet']\n",
      "['Top rated movies']\n"
     ]
    }
   ],
   "source": [
    "import requests,openpyxl\n",
    "from bs4 import BeautifulSoup\n",
    "excel=openpyxl.Workbook()\n",
    "print(excel.sheetnames)\n",
    "sheet=excel.active\n",
    "sheet.title='Top rated movies'\n",
    "print(excel.sheetnames)\n",
    "sheet.append(['Rank','Movie name','Year of Release','Rating'])\n",
    "try:\n",
    "    source=requests.get('https://www.imdb.com/chart/top/')\n",
    "    source.raise_for_status()\n",
    "    soup = BeautifulSoup(source.text,'html.parser')\n",
    "    \n",
    "    movies = soup.find('tbody',class_='lister-list').find_all('tr')\n",
    "    for movie in movies:\n",
    "        name=movie.find('td',class_='titleColumn').a.text\n",
    "        rank=movie.find('td',class_='titleColumn').get_text(strip=True).split(\".\")[0]\n",
    "        year=movie.find('td',class_='titleColumn').span.text.strip('()')\n",
    "        rating=movie.find('td',class_='ratingColumn imdbRating').strong.text\n",
    "        sheet.append([name,rank,year,rating])\n",
    "        \n",
    "except Exception as e:\n",
    "    print(e)\n",
    "excel.save('Topmovies.xlsx')"
   ]
  },
  {
   "cell_type": "code",
   "execution_count": null,
   "id": "13776960",
   "metadata": {},
   "outputs": [],
   "source": []
  },
  {
   "cell_type": "code",
   "execution_count": null,
   "id": "aa3022a0",
   "metadata": {},
   "outputs": [],
   "source": []
  }
 ],
 "metadata": {
  "kernelspec": {
   "display_name": "Python 3 (ipykernel)",
   "language": "python",
   "name": "python3"
  },
  "language_info": {
   "codemirror_mode": {
    "name": "ipython",
    "version": 3
   },
   "file_extension": ".py",
   "mimetype": "text/x-python",
   "name": "python",
   "nbconvert_exporter": "python",
   "pygments_lexer": "ipython3",
   "version": "3.9.13"
  }
 },
 "nbformat": 4,
 "nbformat_minor": 5
}
